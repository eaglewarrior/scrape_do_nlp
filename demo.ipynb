{
 "cells": [
  {
   "cell_type": "code",
   "execution_count": 2,
   "metadata": {},
   "outputs": [
    {
     "name": "stderr",
     "output_type": "stream",
     "text": [
      "[nltk_data] Downloading package punkt to\n",
      "[nltk_data]     C:\\Users\\rinki\\AppData\\Roaming\\nltk_data...\n",
      "[nltk_data]   Package punkt is already up-to-date!\n"
     ]
    }
   ],
   "source": [
    "import scrape_do_nlp"
   ]
  },
  {
   "cell_type": "code",
   "execution_count": 3,
   "metadata": {},
   "outputs": [
    {
     "data": {
      "text/plain": [
       "'1.0.0'"
      ]
     },
     "execution_count": 3,
     "metadata": {},
     "output_type": "execute_result"
    }
   ],
   "source": [
    "scrape_do_nlp.__version__"
   ]
  },
  {
   "cell_type": "code",
   "execution_count": 4,
   "metadata": {},
   "outputs": [
    {
     "data": {
      "text/plain": [
       "'Rinki Nag'"
      ]
     },
     "execution_count": 4,
     "metadata": {},
     "output_type": "execute_result"
    }
   ],
   "source": [
    "scrape_do_nlp.__author__"
   ]
  },
  {
   "cell_type": "code",
   "execution_count": 5,
   "metadata": {},
   "outputs": [
    {
     "data": {
      "text/plain": [
       "['6 days ago · Fractal joined hands with Apollo Hospitals Group for pan India vaccination to initiate a vaccination program known as Kavach 2',\n",
       " '3 weeks ago · Fractal helps large companies in the consumer packaged goods, insurance, healthcare, life sciences, retail and technology, and the financial',\n",
       " \"2 weeks ago · The cafeteria at artificial intelligence company Fractal Analytics' office in India started its operations again in January this year\",\n",
       " '3 weeks ago · Fractal and Google Cloud are partnering to deliver AI and analytics offerings in the cloud to drive scalability, efficiency, and innovation for',\n",
       " '3 days ago · A universe within a universe',\n",
       " ' One proposal came from mathematician Benoit Mandelbrot, the father of fractals',\n",
       " ' Fractals are frustratingly hard to',\n",
       " \"2 days ago · Key Features: The world of amp and effects processing as we know it today simply wouldn't exist without Fractal Audio\",\n",
       " ' Considered as titans',\n",
       " '4 weeks ago · Fractal is one of the most prominent players in the Artificial Intelligence space',\n",
       " \" Fractal's mission is to power every human decision in the\",\n",
       " '1 week ago · The journey to the Fractal Altar will be an interesting one: West Coast stoner rockers Snail have laid out a trail of fuzzed-out mile markers that',\n",
       " ' from simple lines to branched fractals',\n",
       " \" They're much more complex than the suture lines of ammonites' nearest extant cousin, the nautilus\",\n",
       " '2 weeks ago · Leading designer and manufacturer of premium PC hardware, Fractal Design, is embarking on a new partnership with Spire Technology']"
      ]
     },
     "execution_count": 5,
     "metadata": {},
     "output_type": "execute_result"
    }
   ],
   "source": [
    "scrape_do_nlp.get_data_from_google(10,'Fractal')"
   ]
  },
  {
   "cell_type": "code",
   "execution_count": 8,
   "metadata": {},
   "outputs": [
    {
     "name": "stdout",
     "output_type": "stream",
     "text": [
      "6 days ago · Fractal joined hands with Apollo Hospitals Group for pan India vaccination to initiate a vaccination program known as Kavach 2\n",
      "Sentiment(polarity=0.0, subjectivity=0.0)\n",
      "3 weeks ago · Fractal helps large companies in the consumer packaged goods, insurance, healthcare, life sciences, retail and technology, and the financial\n",
      "Sentiment(polarity=0.10714285714285714, subjectivity=0.21428571428571427)\n",
      "2 weeks ago · The cafeteria at artificial intelligence company Fractal Analytics' office in India started its operations again in January this year\n",
      "Sentiment(polarity=-0.6, subjectivity=1.0)\n",
      "3 weeks ago · Fractal and Google Cloud are partnering to deliver AI and analytics offerings in the cloud to drive scalability, efficiency, and innovation for\n",
      "Sentiment(polarity=0.0, subjectivity=0.0)\n",
      "3 days ago · A universe within a universe\n",
      "Sentiment(polarity=0.0, subjectivity=0.0)\n",
      " One proposal came from mathematician Benoit Mandelbrot, the father of fractals\n",
      "Sentiment(polarity=0.0, subjectivity=0.0)\n",
      " Fractals are frustratingly hard to\n",
      "Sentiment(polarity=-0.2916666666666667, subjectivity=0.5416666666666666)\n",
      "2 days ago · Key Features: The world of amp and effects processing as we know it today simply wouldn't exist without Fractal Audio\n",
      "Sentiment(polarity=0.0, subjectivity=0.6785714285714286)\n",
      " Considered as titans\n",
      "Sentiment(polarity=0.0, subjectivity=0.0)\n",
      "4 weeks ago · Fractal is one of the most prominent players in the Artificial Intelligence space\n",
      "Sentiment(polarity=0.13333333333333333, subjectivity=0.8333333333333334)\n",
      " Fractal's mission is to power every human decision in the\n",
      "Sentiment(polarity=0.0, subjectivity=0.1)\n",
      "1 week ago · The journey to the Fractal Altar will be an interesting one: West Coast stoner rockers Snail have laid out a trail of fuzzed-out mile markers that\n",
      "Sentiment(polarity=0.5, subjectivity=0.5)\n",
      " from simple lines to branched fractals\n",
      "Sentiment(polarity=0.0, subjectivity=0.35714285714285715)\n",
      " They're much more complex than the suture lines of ammonites' nearest extant cousin, the nautilus\n",
      "Sentiment(polarity=0.1, subjectivity=0.45)\n",
      "2 weeks ago · Leading designer and manufacturer of premium PC hardware, Fractal Design, is embarking on a new partnership with Spire Technology\n",
      "Sentiment(polarity=0.13636363636363635, subjectivity=0.45454545454545453)\n",
      "Applied 3d effect on Mandelbrot set and rotated the light to make the effect more appreciable\n",
      "#fractal #fractalart… https://t.co/x9NsrNia3R\n",
      "Sentiment(polarity=0.45, subjectivity=0.6)\n",
      "@mike_mates Fractal H-I de Rivera de dimensión aproximada 1.7712 https://t.co/EtUp6Lmigt\n",
      "Sentiment(polarity=0.0, subjectivity=0.0)\n",
      "RT @YImaginaria: @OZMediaNFT @hazyartworks Two of my most crazy Animated Fractal Artworks are on @withFND  🙌 #nftart\n",
      "https://t.co/w1dzGAox9…\n",
      "Sentiment(polarity=-0.04999999999999999, subjectivity=0.7)\n",
      "@thatbloom Hey there Roland!\n",
      "Gonna leave another of my fractal avatars here this time :) This one's called 'The Tri… https://t.co/fuHdfXBZAJ\n",
      "Sentiment(polarity=0.5, subjectivity=1.0)\n",
      "Since the fractal isn't valid, and the H&amp;S looks like its playing out... I want to note that it looks like $STMX is… https://t.co/VH4ccLJGNy\n",
      "Sentiment(polarity=0.0, subjectivity=0.0)\n",
      "RT @IndUcaos: 🌰🌰🌰🌱🌰🌰🌰\n",
      "Seeds of the gods\n",
      "Seeds 1: https://t.co/zOiFfahyiZ\n",
      "Seeds 2: https://t.co/hEQ7jDDDzX\n",
      "#NFTs #cryptoart #nftart #NFTarti…\n",
      "Sentiment(polarity=0.0, subjectivity=0.0)\n",
      "내가 뭘 하고 있는지 알겠어?가장 완벽하게 널 죽이는 방법을 찾고있지....응?풀어 달라고?물론이지.일을 다 끝내고 나면 가장 편안한 침대에 눕혀줄게^^편히 쉬어...\n",
      "Sentiment(polarity=0.0, subjectivity=0.0)\n",
      "Sorry fam.. my fractal guess was invalidated when $STMX broke down. \n",
      "\n",
      "Just remember Its just a fractal. The likelih… https://t.co/TkIAqN1iwe\n",
      "Sentiment(polarity=-0.3277777777777778, subjectivity=0.6444444444444445)\n",
      "RT @mike_mates: Esta es la Curva del Dragón🐲, un Fractal de dimensión aproximadamente 1.5236 🔥 https://t.co/yIdTDgaBtU\n",
      "Sentiment(polarity=0.0, subjectivity=0.0)\n",
      "RT @MrRedSlush: Hi, my names Tom \n",
      "\n",
      "I’m looking to work with new companies in 2021. My DM’s are open.\n",
      "\n",
      "Website/Portfolio - https://t.co/d7G2…\n",
      "Sentiment(polarity=0.06818181818181818, subjectivity=0.4772727272727273)\n",
      "RT @StayDashy: #DASH is up +48.5% in last 7 days!\n",
      "\n",
      "What's exciting is this is only the start of what's to come! $DASH seems to be following…\n",
      "Sentiment(polarity=0.09999999999999999, subjectivity=0.6222222222222222)\n",
      "RT @RndmToken: We will be releasing our #whitelist on RNDM early if https://t.co/NVEPqCZm4T hits 300 members by Monday 👀 https://t.co/xISp4…\n",
      "Sentiment(polarity=0.1, subjectivity=0.3)\n",
      "RT @LiveScience: Fractals are everywhere. Is the universe a fractal? 🌀💭 https://t.co/G9klDeW7we\n",
      "Sentiment(polarity=0.0, subjectivity=0.0)\n",
      "2021/5/7 リザルト\n",
      "\n",
      "・Amazing Mirage 穴難\n",
      "・Mira 穴易\n",
      "・Votum stellarum -Hommarju Remix- 穴易\n",
      "・Fractal 穴易\n",
      "\n",
      "Miraはオプションを弄る事で練習に使えそう… https://t.co/PIwkjaRot1\n",
      "Sentiment(polarity=0.0, subjectivity=0.0)\n",
      "RT @MarcoEyzaguirre: ¿Te robaron un iPhone?\n",
      "Hazle la vida imposible al choro, aquí te cuento cómo.\n",
      "\n",
      "Abro hilo que nadie pidió ni a nadie le…\n",
      "Sentiment(polarity=0.0, subjectivity=0.0)\n",
      "Summary 1\n",
      "They're much more complex than the suture lines of ammonites' nearest extant cousin, the nautilus.2 weeks ago · Leading designer and manufacturer of premium PC hardware, Fractal Design, is embarking on a new partnership with Spire Technology.Applied 3d effect on Mandelbrot set and rotated the light to make the effect more appreciable #fractal #fractalart… https://t.co/x9NsrNia3R.@mike_mates Fractal H-I de Rivera de dimensión aproximada 1.7712 https://t.co/EtUp6Lmigt.RT @YImaginaria: @OZMediaNFT @hazyartworks Two of my most crazy Animated Fractal Artworks are on @withFND 🙌 #nftart https://t.co/w1dzGAox9….@thatbloom Hey there Roland!\n",
      "Summary 2\n",
      "Considered as titans.4 weeks ago · Fractal is one of the most prominent players in the Artificial Intelligence space.\n",
      "They're much more complex than the suture lines of ammonites' nearest extant cousin, the nautilus.2 weeks ago · Leading designer and manufacturer of premium PC hardware, Fractal Design, is embarking on a new partnership with Spire Technology.Applied 3d effect on Mandelbrot set and rotated the light to make the effect more appreciable #fractal #fractalart… https://t.co/x9NsrNia3R.@mike_mates Fractal H-I de Rivera de dimensión aproximada 1.7712 https://t.co/EtUp6Lmigt.RT @YImaginaria: @OZMediaNFT @hazyartworks Two of my most crazy Animated Fractal Artworks are on @withFND 🙌 #nftart https://t.co/w1dzGAox9….@thatbloom Hey there Roland!\n",
      "Gonna leave another of my fractal avatars here this time :) This one's called 'The Tri… https://t.co/fuHdfXBZAJ.Since the fractal isn't valid, and the H&amp;S looks like its playing out...\n",
      "The likelih… https://t.co/TkIAqN1iwe.RT @mike_mates: Esta es la Curva del Dragón🐲, un Fractal de dimensión aproximadamente 1.5236 🔥 https://t.co/yIdTDgaBtU.RT @MrRedSlush: Hi, my names Tom I’m looking to work with new companies in 2021.\n"
     ]
    }
   ],
   "source": [
    "scrape_do_nlp.get_summary('Fractal','x','x','y','x',10,sentiment_flag=True)## cannot expose the twitter keys"
   ]
  }
 ],
 "metadata": {
  "kernelspec": {
   "display_name": "Python 3",
   "language": "python",
   "name": "python3"
  },
  "language_info": {
   "codemirror_mode": {
    "name": "ipython",
    "version": 3
   },
   "file_extension": ".py",
   "mimetype": "text/x-python",
   "name": "python",
   "nbconvert_exporter": "python",
   "pygments_lexer": "ipython3",
   "version": "3.7.4"
  }
 },
 "nbformat": 4,
 "nbformat_minor": 2
}
